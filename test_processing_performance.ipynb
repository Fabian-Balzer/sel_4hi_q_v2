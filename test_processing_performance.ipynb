{
 "cells": [
  {
   "cell_type": "markdown",
   "metadata": {},
   "source": [
    "### Quick test script to compare the performance of the processing in jystilts to the one in these notebooks\n",
    "\n",
    "Because this is just a comparison script, it might look a little dirtier. Sorry!"
   ]
  },
  {
   "cell_type": "code",
   "execution_count": 2,
   "metadata": {},
   "outputs": [
    {
     "name": "stderr",
     "output_type": "stream",
     "text": [
      "INFO:root:Modules loaded successfully\n"
     ]
    }
   ],
   "source": [
    "from astropy.table import Table, join\n",
    "import warnings\n",
    "from astropy.units import UnitsWarning\n",
    "from function_package.load_and_clean_tables import _sanitise_table\n",
    "import numpy as np\n",
    "import os\n",
    "import function_package as fp\n",
    "import logging\n",
    "logging.getLogger().setLevel(\"INFO\")\n",
    "\n",
    "logging.info(\"Modules loaded successfully\")"
   ]
  },
  {
   "cell_type": "code",
   "execution_count": 3,
   "metadata": {},
   "outputs": [
    {
     "name": "stderr",
     "output_type": "stream",
     "text": [
      "INFO:root:Region constrained to 125.0000 <= RA <= 130.0000 and -5.0000 <= DEC <= 0.0000.\n",
      "This corresponds to a linear (!) size of 25 deg^2\n"
     ]
    }
   ],
   "source": [
    "# Initialise a region to test in:\n",
    "ra_min, ra_max, dec_min, dec_max = 125, 130, -5, 0\n",
    "REGION = fp.Region(ra_min, ra_max, dec_min, dec_max)\n",
    "logging.info(REGION)"
   ]
  },
  {
   "cell_type": "code",
   "execution_count": 5,
   "metadata": {},
   "outputs": [
    {
     "name": "stderr",
     "output_type": "stream",
     "text": [
      "INFO:root:The reduced matched table provided contains 975 sources.\n",
      "INFO:root:The reduced comparison table provided contains 903 sources.\n"
     ]
    }
   ],
   "source": [
    "# To perform the testing, please deposit a raw-matched file from the original code and a processed file from the\n",
    "# original code in data/match_backups/tests_for_comparison/\n",
    "with warnings.catch_warnings():\n",
    "    warnings.simplefilter(\"ignore\", UnitsWarning)\n",
    "    MATCH_TABLE = Table.read(f\"{fp.DATAPATH}match_backups/tests_for_comparison/baseline_input_raw_match.fits\")\n",
    "MATCH_TABLE = _sanitise_table(MATCH_TABLE, REGION, \"matched\")\n",
    "MATCH_TABLE.rename_column(\"type\", \"sweep_type\")\n",
    "MATCH_TABLE.rename_column(\"sweep_ident\", \"sweep_id\")\n",
    "MATCH_TABLE.rename_columns([\"fflux\", \"nflux\", \"e_fflux\", \"e_nflux\"], [\"flux_fuv\", \"flux_nuv\", \"flux_err_fuv\", \"flux_err_nuv\"])\n",
    "MATCH_TABLE.rename_column(\"ebv_galex\", \"galex_ebv\")\n",
    "with warnings.catch_warnings():\n",
    "    warnings.simplefilter(\"ignore\", UnitsWarning)\n",
    "    POINTLIKE_COMP = Table.read(f\"{fp.DATAPATH}match_backups/tests_for_comparison/baseline_input_pointlike_processed.fits\")\n",
    "POINTLIKE_COMP = _sanitise_table(POINTLIKE_COMP, REGION, \"comparison\")"
   ]
  },
  {
   "cell_type": "code",
   "execution_count": 6,
   "metadata": {},
   "outputs": [
    {
     "name": "stderr",
     "output_type": "stream",
     "text": [
      "INFO:root:As we can see, the relative errors are neglectible.\n"
     ]
    },
    {
     "name": "stdout",
     "output_type": "stream",
     "text": [
      "g\n",
      "1.1616040043749564e-07\n",
      "r\n",
      "1.0551129522971926e-07\n",
      "z\n",
      "1.0810402448477127e-07\n",
      "w1\n",
      "1.0754281431780065e-07\n",
      "w2\n",
      "1.0678235412312255e-07\n",
      "w3\n",
      "1.0759226515561465e-07\n",
      "w4\n",
      "1.0884313731172959e-07\n"
     ]
    }
   ],
   "source": [
    "# Test the performance of the new sweep processing:\n",
    "SWEEP_CORR = fp.process_sweep_columns(MATCH_TABLE)\n",
    "plike, ext = fp.split_table_by_sourcetype(SWEEP_CORR)\n",
    "band = \"g\"\n",
    "from function_package.custom_constants import ALL_SWEEP_BANDS\n",
    "for band in ALL_SWEEP_BANDS:\n",
    "    print(band)\n",
    "    print(np.max((plike[f\"c_flux_{band}\"] - POINTLIKE_COMP[f\"c_flux_{band}\"])/ plike[f\"c_flux_{band}\"]))\n",
    "logging.info(\"As we can see, the relative errors are neglectible.\")"
   ]
  },
  {
   "cell_type": "code",
   "execution_count": 7,
   "metadata": {},
   "outputs": [
    {
     "name": "stderr",
     "output_type": "stream",
     "text": [
      "INFO:root:As we can see, the relative errors are neglectible, but we need to watch out for NAN values\n"
     ]
    },
    {
     "name": "stdout",
     "output_type": "stream",
     "text": [
      "fuv\n",
      "1.4809559830549247e-07\n",
      "nuv\n",
      "1.1365383890635863e-07\n"
     ]
    }
   ],
   "source": [
    "# Test the performance of the new Galex processing\n",
    "try:\n",
    "    MATCH_TABLE.rename_columns([\"fflux\", \"nflux\", \"e_fflux\", \"e_nflux\"], [\"flux_fuv\", \"flux_nuv\", \"flux_err_fuv\", \"flux_err_nuv\"])\n",
    "    MATCH_TABLE.rename_column(\"ebv_galex\", \"galex_ebv\")\n",
    "except KeyError:\n",
    "    pass\n",
    "GALEX_CORR = fp.process_galex_columns(MATCH_TABLE)\n",
    "plike, ext = fp.split_table_by_sourcetype(GALEX_CORR)\n",
    "from function_package.custom_constants import ALL_GALEX_BANDS\n",
    "for band in ALL_GALEX_BANDS:\n",
    "    mask = POINTLIKE_COMP[f\"c_flux_{band}\"] > 0\n",
    "    print(band)\n",
    "    print(np.max((plike[mask][f\"c_flux_{band}\"] - POINTLIKE_COMP[mask][f\"c_flux_{band}\"])/ plike[mask][f\"c_flux_{band}\"]))\n",
    "logging.info(\"As we can see, the relative errors are neglectible, but we need to watch out for NAN values\")"
   ]
  },
  {
   "cell_type": "code",
   "execution_count": 8,
   "metadata": {},
   "outputs": [
    {
     "name": "stderr",
     "output_type": "stream",
     "text": [
      "c:\\Users\\fabia\\anaconda3\\envs\\4HIQ\\lib\\site-packages\\numpy\\ma\\core.py:6900: RuntimeWarning: overflow encountered in power\n",
      "  result = np.where(m, fa, umath.power(fa, fb)).view(basetype)\n",
      "INFO:root:As we can see, the relative errors are neglectible, but we need to watch out for NAN values\n"
     ]
    },
    {
     "name": "stdout",
     "output_type": "stream",
     "text": [
      "y\n",
      "j\n",
      "7.4732438287794575e-06\n",
      "h\n",
      "ks\n",
      "7.59225810582596e-06\n"
     ]
    }
   ],
   "source": [
    "plike, ext = fp.split_table_by_sourcetype(MATCH_TABLE)\n",
    "VHS_PLIKE = fp.process_vhs_columns(plike)\n",
    "from function_package.custom_constants import ALL_VHS_BANDS\n",
    "for band in ALL_VHS_BANDS:\n",
    "    mask = POINTLIKE_COMP[f\"c_flux_{band}\"] > 0\n",
    "    print(band)\n",
    "    if np.sum(mask) > 0:\n",
    "        print(np.max((VHS_PLIKE[mask][f\"c_flux_{band}\"] - POINTLIKE_COMP[mask][f\"c_flux_{band}\"])/ VHS_PLIKE[mask][f\"c_flux_{band}\"]))\n",
    "logging.info(\"As we can see, the relative errors are neglectible, but we need to watch out for NAN values\")"
   ]
  },
  {
   "cell_type": "code",
   "execution_count": 11,
   "metadata": {},
   "outputs": [],
   "source": [
    "from astroquery.vsa import Vsa\n",
    "\n",
    "import astropy.units as u\n",
    "from astropy.coordinates import SkyCoord\n",
    "from astropy.table import Table, hstack\n",
    "from astroquery.xmatch import XMatch\n",
    "import os\n",
    "import function_package as fp\n",
    "import logging"
   ]
  },
  {
   "cell_type": "code",
   "execution_count": 5,
   "metadata": {},
   "outputs": [
    {
     "data": {
      "text/plain": [
       "('VHSDR4',\n",
       " 'VHSDR3',\n",
       " 'VHSDR2',\n",
       " 'VHSDR1',\n",
       " 'VVVDR4',\n",
       " 'VVVDR2',\n",
       " 'VVVDR1',\n",
       " 'VMCDR4',\n",
       " 'VMCDR3',\n",
       " 'VMCDR2',\n",
       " 'VMCDR1',\n",
       " 'VIKINGDR4',\n",
       " 'VIKINGDR3',\n",
       " 'VIKINGDR2',\n",
       " 'VIDEODR5',\n",
       " 'VIDEODR4',\n",
       " 'VIDEODR3',\n",
       " 'VIDEODR2',\n",
       " 'VISTAOPENTIME')"
      ]
     },
     "execution_count": 5,
     "metadata": {},
     "output_type": "execute_result"
    }
   ],
   "source": [
    "Vsa.list_catalogs()\n",
    "Vsa.all_databases"
   ]
  },
  {
   "cell_type": "code",
   "execution_count": null,
   "metadata": {},
   "outputs": [],
   "source": [
    "import astropy.coordinates as coord\n",
    "import astropy.units as u\n",
    "table = Vsa.query_region(coord.SkyCoord(10.625, -0.38,\n",
    "                                           unit=(u.deg, u.deg),\n",
    "                                           frame='galactic'),\n",
    "                            radius=6 * u.arcsec)"
   ]
  },
  {
   "cell_type": "code",
   "execution_count": 15,
   "metadata": {},
   "outputs": [
    {
     "name": "stderr",
     "output_type": "stream",
     "text": [
      "c:\\Users\\fabia\\anaconda3\\envs\\4HIQ\\lib\\site-packages\\astropy\\io\\ascii\\core.py:1098: AstropyWarning: OverflowError converting to IntType in column objid, reverting to String.\n",
      "  warnings.warn(\n",
      "c:\\Users\\fabia\\anaconda3\\envs\\4HIQ\\lib\\site-packages\\astropy\\io\\ascii\\core.py:1098: AstropyWarning: OverflowError converting to IntType in column phID, reverting to String.\n",
      "  warnings.warn(\n",
      "c:\\Users\\fabia\\anaconda3\\envs\\4HIQ\\lib\\site-packages\\astropy\\io\\ascii\\core.py:1098: AstropyWarning: OverflowError converting to IntType in column primid, reverting to String.\n",
      "  warnings.warn(\n",
      "c:\\Users\\fabia\\anaconda3\\envs\\4HIQ\\lib\\site-packages\\astropy\\io\\ascii\\core.py:1098: AstropyWarning: OverflowError converting to IntType in column primidd, reverting to String.\n",
      "  warnings.warn(\n"
     ]
    }
   ],
   "source": [
    "\n",
    "ra_min, ra_max, dec_min, dec_max = 125, 130, -5, 0\n",
    "REGION = fp.Region(ra_min, ra_max, dec_min, dec_max)\n",
    "table1 = fp.load_and_clean_opt_agn_shu(REGION)\n",
    "\n",
    "galex_table_id = \"II/335/galex_ais\"\n",
    "matched_table = XMatch.query(cat1=table1,\n",
    "                        cat2=f\"vizier:{galex_table_id}\",\n",
    "                        max_distance=3.5 * u.arcsec, colRA1='ra',\n",
    "                        colDec1='dec')"
   ]
  },
  {
   "cell_type": "code",
   "execution_count": 21,
   "metadata": {},
   "outputs": [
    {
     "data": {
      "text/html": [
       "<div><i>Table length=578</i>\n",
       "<table id=\"table1818938177472\" class=\"table-striped table-bordered table-condensed\">\n",
       "<thead><tr><th>angDist</th><th>ra</th><th>dec</th><th>shu_z_phot</th><th>shu_prob_rf</th><th>RAJ2000</th><th>DEJ2000</th><th>name</th><th>objid</th><th>phID</th><th>Cat</th><th>RAfdeg</th><th>DEfdeg</th><th>FUVexp</th><th>NUVexp</th><th>GLON</th><th>GLAT</th><th>tile</th><th>img</th><th>sv</th><th>r.fov</th><th>Obs</th><th>b</th><th>E(B-V)</th><th>Sp?</th><th>chkf</th><th>FUVmag</th><th>e_FUVmag</th><th>NUVmag</th><th>e_NUVmag</th><th>FUV.a</th><th>e_FUV.a</th><th>NUV.a</th><th>e_NUV.a</th><th>FUV.4</th><th>e_FUV.4</th><th>NUV.4</th><th>e_NUV.4</th><th>FUV.6</th><th>e_FUV.6</th><th>NUV.6</th><th>e_NUV.6</th><th>Fafl</th><th>Nafl</th><th>Fexf</th><th>Nexf</th><th>Fflux</th><th>e_Fflux</th><th>Nflux</th><th>e_Nflux</th><th>FXpos</th><th>FYpos</th><th>NXpos</th><th>NYpos</th><th>Fima</th><th>Nima</th><th>Fr</th><th>Nr</th><th>nS/G</th><th>fS/G</th><th>nell</th><th>fell</th><th>nPA</th><th>e_nPA</th><th>fPA</th><th>e_fPA</th><th>Fnr</th><th>F3r</th><th>Nar</th><th>Narms</th><th>Nbrms</th><th>Far</th><th>Farms</th><th>Fbrms</th><th>w_NUV</th><th>w_FUV</th><th>Prob</th><th>Sep</th><th>Nerr</th><th>Ferr</th><th>Ierr</th><th>Nperr</th><th>Fperr</th><th>CV</th><th>G</th><th>N</th><th>primid</th><th>groupid</th><th>Gd</th><th>Nd</th><th>primidd</th><th>groupidd</th><th>grouptot</th><th>OName</th><th>Size</th></tr></thead>\n",
       "<thead><tr><th>float64</th><th>float64</th><th>float64</th><th>float64</th><th>float64</th><th>float64</th><th>float64</th><th>str22</th><th>str19</th><th>str19</th><th>str3</th><th>float64</th><th>float64</th><th>float64</th><th>float64</th><th>float64</th><th>float64</th><th>int32</th><th>int32</th><th>int32</th><th>float64</th><th>int32</th><th>int32</th><th>float64</th><th>int32</th><th>int32</th><th>float64</th><th>float64</th><th>float64</th><th>float64</th><th>float64</th><th>float64</th><th>float64</th><th>float64</th><th>float64</th><th>float64</th><th>float64</th><th>float64</th><th>float64</th><th>float64</th><th>float64</th><th>float64</th><th>int32</th><th>int32</th><th>int32</th><th>int32</th><th>float64</th><th>float64</th><th>float64</th><th>float64</th><th>float64</th><th>float64</th><th>float64</th><th>float64</th><th>float64</th><th>float64</th><th>float64</th><th>float64</th><th>float64</th><th>float64</th><th>float64</th><th>float64</th><th>float64</th><th>float64</th><th>float64</th><th>float64</th><th>float64</th><th>float64</th><th>float64</th><th>float64</th><th>float64</th><th>float64</th><th>float64</th><th>float64</th><th>float64</th><th>float64</th><th>float64</th><th>float64</th><th>float64</th><th>float64</th><th>float64</th><th>float64</th><th>float64</th><th>str1</th><th>int32</th><th>int32</th><th>str19</th><th>str39</th><th>int32</th><th>int32</th><th>str19</th><th>str39</th><th>str39</th><th>str1</th><th>float64</th></tr></thead>\n",
       "<tr><td>0.82569</td><td>125.111143024312</td><td>-4.66569333137881</td><td>0.8026694541558546</td><td>1.0</td><td>125.111156</td><td>-4.665922</td><td>GALEX J082026.6-043957</td><td>6378128634446611800</td><td>6378128634443464704</td><td>AIS</td><td>125.556935</td><td>-4.443879</td><td>182.0</td><td>182.0</td><td>227.7767</td><td>17.3861</td><td>50205</td><td>2465</td><td>77</td><td>0.496758</td><td>1</td><td>3</td><td>0.0526</td><td>0</td><td>0</td><td>20.5318</td><td>0.2251</td><td>20.2446</td><td>0.1205</td><td>1.7118</td><td>0.2251</td><td>0.1646</td><td>0.1205</td><td>1.9384</td><td>0.2494</td><td>0.2581</td><td>0.1122</td><td>1.7079</td><td>0.2544</td><td>0.1083</td><td>0.1312</td><td>0</td><td>1</td><td>0</td><td>0</td><td>22.247</td><td>4.61154</td><td>28.9834</td><td>3.2171</td><td>2984.54</td><td>1394.4</td><td>2984.71</td><td>1393.79</td><td>10.104</td><td>7.234</td><td>0.004</td><td>0.003</td><td>0.9929</td><td>0.9815</td><td>0.1077</td><td>0.4655</td><td>63.9</td><td>50.67</td><td>-22.8</td><td>-22.78</td><td>5.65834999</td><td>2.40739989</td><td>3.5</td><td>0.000857</td><td>0.000764</td><td>3.5</td><td>0.000962</td><td>0.000514</td><td>144.3</td><td>119.0</td><td>0.381</td><td>1.27</td><td>0.6</td><td>1.07</td><td>0.91</td><td>0.21</td><td>0.19</td><td>C</td><td>1</td><td>2</td><td>6378128634446611456</td><td>6378128634446611800+6378128636594099299</td><td>1</td><td>2</td><td>6378128634446611456</td><td>6378128634446611800+6378128636594099299</td><td>6378128634446611800+6378128636594099299</td><td>N</td><td>0.0</td></tr>\n",
       "<tr><td>1.575823</td><td>125.077849881746</td><td>-4.65655919741207</td><td>1.202094771746106</td><td>1.0</td><td>125.077667</td><td>-4.656161</td><td>GALEX J082018.6-043922</td><td>6378128636592002105</td><td>6378128636590948352</td><td>AIS</td><td>125.085952</td><td>-5.201694</td><td>177.0</td><td>177.0</td><td>227.7502</td><td>17.3622</td><td>50205</td><td>2529</td><td>79</td><td>0.545595</td><td>1</td><td>1</td><td>0.0513</td><td>0</td><td>0</td><td>--</td><td>--</td><td>21.4582</td><td>0.2553</td><td>--</td><td>--</td><td>1.3782</td><td>0.2553</td><td>--</td><td>--</td><td>1.4512</td><td>0.2315</td><td>--</td><td>--</td><td>1.5214</td><td>0.3953</td><td>0</td><td>1</td><td>0</td><td>0</td><td>--</td><td>--</td><td>9.47808</td><td>2.22853</td><td>--</td><td>--</td><td>1933.42</td><td>3240.59</td><td>--</td><td>9.888</td><td>--</td><td>0.004</td><td>0.9799</td><td>0.0</td><td>0.2943</td><td>--</td><td>68.35</td><td>72.84</td><td>--</td><td>--</td><td>9.88829994</td><td>5.49293995</td><td>3.5</td><td>0.000819</td><td>0.000578</td><td>--</td><td>--</td><td>--</td><td>143.4</td><td>174.5</td><td>--</td><td>--</td><td>1.0</td><td>--</td><td>--</td><td>0.43</td><td>--</td><td>C</td><td>0</td><td>1</td><td>6378128636592002048</td><td>6378128636592002105</td><td>0</td><td>1</td><td>6378128636592002048</td><td>6378128636592002105</td><td>6378128636592002105</td><td>N</td><td>0.0</td></tr>\n",
       "<tr><td>1.65823</td><td>125.299110272183</td><td>-4.99188386119016</td><td>1.5501156235984177</td><td>1.0</td><td>125.299238</td><td>-4.991441</td><td>GALEX J082111.8-045929</td><td>6378128636592000713</td><td>6378128636590948352</td><td>AIS</td><td>125.085952</td><td>-5.201694</td><td>177.0</td><td>177.0</td><td>228.1702</td><td>17.3831</td><td>50205</td><td>2529</td><td>79</td><td>0.298894</td><td>1</td><td>1</td><td>0.0543</td><td>0</td><td>0</td><td>--</td><td>--</td><td>21.2366</td><td>0.2196</td><td>--</td><td>--</td><td>1.1566</td><td>0.2196</td><td>--</td><td>--</td><td>1.1515</td><td>0.1983</td><td>--</td><td>--</td><td>1.0452</td><td>0.281</td><td>0</td><td>0</td><td>0</td><td>0</td><td>--</td><td>--</td><td>11.6242</td><td>2.35043</td><td>--</td><td>--</td><td>1403.66</td><td>2435.79</td><td>--</td><td>5.308</td><td>--</td><td>0.002</td><td>0.9789</td><td>0.0</td><td>0.1532</td><td>--</td><td>-39.83</td><td>-39.07</td><td>--</td><td>--</td><td>9.05045986</td><td>2.44722009</td><td>3.5</td><td>0.000685</td><td>0.00058</td><td>--</td><td>--</td><td>--</td><td>133.3</td><td>164.2</td><td>--</td><td>--</td><td>0.74</td><td>--</td><td>--</td><td>0.3</td><td>--</td><td>C</td><td>0</td><td>1</td><td>6378128636592001024</td><td>6378128636592000713</td><td>0</td><td>1</td><td>6378128636592001024</td><td>6378128636592000713</td><td>6378128636592000713</td><td>N</td><td>0.0</td></tr>\n",
       "<tr><td>0.93419</td><td>125.326209946487</td><td>-4.88417265450998</td><td>0.9030894281886772</td><td>1.0</td><td>125.326241</td><td>-4.88443</td><td>GALEX J082118.2-045303</td><td>6378128634446610814</td><td>6378128634443464704</td><td>AIS</td><td>125.556935</td><td>-4.443879</td><td>182.0</td><td>182.0</td><td>228.0878</td><td>17.4605</td><td>50205</td><td>2465</td><td>77</td><td>0.496943</td><td>1</td><td>3</td><td>0.0517</td><td>0</td><td>0</td><td>20.3838</td><td>0.2071</td><td>19.8786</td><td>0.0979</td><td>1.5638</td><td>0.2071</td><td>-0.2014</td><td>0.0979</td><td>1.5662</td><td>0.1984</td><td>-0.1937</td><td>0.0918</td><td>1.5685</td><td>0.2359</td><td>-0.2056</td><td>0.1109</td><td>0</td><td>1</td><td>0</td><td>2</td><td>25.4955</td><td>4.86255</td><td>40.6018</td><td>3.66137</td><td>2470.01</td><td>870.25</td><td>2470.03</td><td>869.59</td><td>4.401</td><td>5.111</td><td>0.002</td><td>0.002</td><td>0.9839</td><td>0.9836</td><td>0.121</td><td>0.2024</td><td>45.81</td><td>44.56</td><td>23.4</td><td>23.41</td><td>5.76163006</td><td>2.55542994</td><td>3.5</td><td>0.000813</td><td>0.000715</td><td>3.5</td><td>0.000742</td><td>0.000592</td><td>139.7</td><td>118.2</td><td>0.234</td><td>1.31</td><td>0.54</td><td>0.88</td><td>0.77</td><td>0.14</td><td>0.14</td><td>C</td><td>1</td><td>2</td><td>6378128634446610432</td><td>6378128634446610814+6378128636594098399</td><td>1</td><td>2</td><td>6378128634446610432</td><td>6378128634446610814+6378128636594098399</td><td>6378128634446610814+6378128636594098399</td><td>N</td><td>0.0</td></tr>\n",
       "<tr><td>0.479762</td><td>125.492989987824</td><td>-4.9740470038438</td><td>0.8478896311630928</td><td>1.0</td><td>125.493075</td><td>-4.973944</td><td>GALEX J082158.3-045826</td><td>6378128634444513403</td><td>6378128634443464704</td><td>AIS</td><td>125.556935</td><td>-4.443879</td><td>182.0</td><td>182.0</td><td>228.2571</td><td>17.5584</td><td>50205</td><td>2465</td><td>77</td><td>0.533872</td><td>1</td><td>1</td><td>0.0478</td><td>0</td><td>0</td><td>--</td><td>--</td><td>20.8737</td><td>0.1767</td><td>--</td><td>--</td><td>0.7937</td><td>0.1767</td><td>--</td><td>--</td><td>0.7014</td><td>0.1491</td><td>--</td><td>--</td><td>0.9753</td><td>0.2689</td><td>256</td><td>17</td><td>0</td><td>0</td><td>--</td><td>--</td><td>16.237</td><td>2.64258</td><td>--</td><td>--</td><td>2071.05</td><td>654.83</td><td>--</td><td>6.804</td><td>--</td><td>0.003</td><td>0.9802</td><td>0.0</td><td>0.1489</td><td>--</td><td>44.2</td><td>46.52</td><td>--</td><td>--</td><td>9.76558971</td><td>5.59200001</td><td>3.5</td><td>0.000737</td><td>0.000627</td><td>--</td><td>--</td><td>--</td><td>135.5</td><td>117.1</td><td>--</td><td>--</td><td>0.63</td><td>--</td><td>--</td><td>0.24</td><td>--</td><td>C</td><td>1</td><td>2</td><td>6378128634444513280</td><td>6378128634444513403+6378128636594097868</td><td>1</td><td>2</td><td>6378128634444513280</td><td>6378128634444513403+6378128636594097868</td><td>6378128634444513403+6378128636594097868</td><td>N</td><td>0.0</td></tr>\n",
       "<tr><td>0.225943</td><td>125.49439230934</td><td>-4.9261748054461</td><td>0.9896857342363071</td><td>1.0</td><td>125.494343</td><td>-4.926135</td><td>GALEX J082158.6-045534</td><td>6378128634446610687</td><td>6378128634443464704</td><td>AIS</td><td>125.556935</td><td>-4.443879</td><td>182.0</td><td>182.0</td><td>228.2146</td><td>17.5837</td><td>50205</td><td>2465</td><td>77</td><td>0.486274</td><td>1</td><td>3</td><td>0.049</td><td>0</td><td>0</td><td>21.294</td><td>0.3144</td><td>20.2001</td><td>0.1203</td><td>2.4739</td><td>0.3144</td><td>0.1201</td><td>0.1203</td><td>2.5265</td><td>0.3403</td><td>0.1991</td><td>0.1138</td><td>2.7332</td><td>0.5166</td><td>0.0976</td><td>0.1385</td><td>0</td><td>1</td><td>0</td><td>0</td><td>11.0261</td><td>3.19214</td><td>30.1979</td><td>3.34504</td><td>2068.48</td><td>768.93</td><td>2068.03</td><td>769.58</td><td>3.334</td><td>4.866</td><td>0.001</td><td>0.002</td><td>0.9831</td><td>0.9778</td><td>0.1181</td><td>0.1269</td><td>75.84</td><td>81.35</td><td>-76.12</td><td>-76.12</td><td>5.08676004</td><td>1.98833001</td><td>3.5</td><td>0.000833</td><td>0.000735</td><td>3.5</td><td>0.000544</td><td>0.000475</td><td>133.4</td><td>124.0</td><td>0.609</td><td>0.92</td><td>0.59</td><td>1.09</td><td>0.92</td><td>0.2</td><td>0.19</td><td>C</td><td>1</td><td>2</td><td>6378128634446610432</td><td>6378128634446610687+6378128636594098172</td><td>1</td><td>2</td><td>6378128634446610432</td><td>6378128634446610687+6378128636594098172</td><td>6378128634446610687+6378128636594098172</td><td>N</td><td>0.0</td></tr>\n",
       "<tr><td>0.80192</td><td>125.670315314504</td><td>-4.95561455987416</td><td>1.5836087841384425</td><td>1.0</td><td>125.670104</td><td>-4.955689</td><td>GALEX J082240.8-045720</td><td>6378128634444513432</td><td>6378128634443464704</td><td>AIS</td><td>125.556935</td><td>-4.443879</td><td>182.0</td><td>182.0</td><td>228.3346</td><td>17.7196</td><td>50205</td><td>2465</td><td>77</td><td>0.52409</td><td>1</td><td>1</td><td>0.0436</td><td>0</td><td>0</td><td>--</td><td>--</td><td>20.2306</td><td>0.1416</td><td>--</td><td>--</td><td>0.1506</td><td>0.1416</td><td>--</td><td>--</td><td>0.4065</td><td>0.1364</td><td>--</td><td>--</td><td>0.0951</td><td>0.1452</td><td>256</td><td>273</td><td>0</td><td>0</td><td>--</td><td>--</td><td>29.3613</td><td>3.82723</td><td>--</td><td>--</td><td>1647.75</td><td>698.63</td><td>--</td><td>13.776</td><td>--</td><td>0.006</td><td>0.9284</td><td>0.0</td><td>0.1861</td><td>--</td><td>78.92</td><td>87.9</td><td>--</td><td>--</td><td>13.7764997</td><td>0.872512996</td><td>3.5</td><td>0.001061</td><td>0.000864</td><td>--</td><td>--</td><td>--</td><td>126.1</td><td>125.0</td><td>--</td><td>--</td><td>0.71</td><td>--</td><td>--</td><td>0.29</td><td>--</td><td>C</td><td>0</td><td>1</td><td>6378128634444513280</td><td>6378128634444513432</td><td>0</td><td>1</td><td>6378128634444513280</td><td>6378128634444513432</td><td>6378128634444513432</td><td>N</td><td>0.0</td></tr>\n",
       "<tr><td>0.545665</td><td>125.696581754425</td><td>-4.96072864613063</td><td>1.8835420834356222</td><td>0.96</td><td>125.696432</td><td>-4.960704</td><td>GALEX J082247.1-045738</td><td>6378128634444513448</td><td>6378128634443464704</td><td>AIS</td><td>125.556935</td><td>-4.443879</td><td>182.0</td><td>182.0</td><td>228.3532</td><td>17.7396</td><td>50205</td><td>2465</td><td>77</td><td>0.535198</td><td>1</td><td>1</td><td>0.0447</td><td>0</td><td>0</td><td>--</td><td>--</td><td>22.61</td><td>0.4461</td><td>--</td><td>--</td><td>2.53</td><td>0.4461</td><td>--</td><td>--</td><td>2.8135</td><td>0.6956</td><td>--</td><td>--</td><td>2.946</td><td>1.4873</td><td>256</td><td>17</td><td>0</td><td>0</td><td>--</td><td>--</td><td>3.28106</td><td>1.34766</td><td>--</td><td>--</td><td>1584.8</td><td>686.58</td><td>--</td><td>2.915</td><td>--</td><td>0.001</td><td>0.6764</td><td>0.0</td><td>0.095</td><td>--</td><td>20.09</td><td>18.71</td><td>--</td><td>--</td><td>5.45110989</td><td>1.65287006</td><td>3.5</td><td>0.000401</td><td>0.000363</td><td>--</td><td>--</td><td>--</td><td>129.9</td><td>119.4</td><td>--</td><td>--</td><td>1.45</td><td>--</td><td>--</td><td>0.57</td><td>--</td><td>C</td><td>0</td><td>1</td><td>6378128634444513280</td><td>6378128634444513448</td><td>0</td><td>1</td><td>6378128634444513280</td><td>6378128634444513448</td><td>6378128634444513448</td><td>N</td><td>0.0</td></tr>\n",
       "<tr><td>0.963806</td><td>125.471820734631</td><td>-4.7915259992899</td><td>1.0518155822207829</td><td>1.0</td><td>125.471684</td><td>-4.791296</td><td>GALEX J082153.2-044728</td><td>6378128634444514033</td><td>6378128634443464704</td><td>AIS</td><td>125.556935</td><td>-4.443879</td><td>182.0</td><td>182.0</td><td>228.0807</td><td>17.6326</td><td>50205</td><td>2465</td><td>77</td><td>0.357657</td><td>1</td><td>1</td><td>0.0455</td><td>0</td><td>0</td><td>--</td><td>--</td><td>21.451</td><td>0.2678</td><td>--</td><td>--</td><td>1.371</td><td>0.2678</td><td>--</td><td>--</td><td>1.4152</td><td>0.2435</td><td>--</td><td>--</td><td>1.4666</td><td>0.4046</td><td>0</td><td>0</td><td>0</td><td>0</td><td>--</td><td>--</td><td>9.54091</td><td>2.35264</td><td>--</td><td>--</td><td>2122.25</td><td>1093.21</td><td>--</td><td>8.534</td><td>--</td><td>0.004</td><td>0.9816</td><td>0.0</td><td>0.2014</td><td>--</td><td>19.12</td><td>16.95</td><td>--</td><td>--</td><td>9.64980984</td><td>0.974126995</td><td>3.5</td><td>0.000751</td><td>0.0006</td><td>--</td><td>--</td><td>--</td><td>130.4</td><td>132.6</td><td>--</td><td>--</td><td>0.98</td><td>--</td><td>--</td><td>0.43</td><td>--</td><td>C</td><td>0</td><td>1</td><td>6378128634444514304</td><td>6378128634444514033</td><td>0</td><td>1</td><td>6378128634444514304</td><td>6378128634444514033</td><td>6378128634444514033</td><td>N</td><td>0.0</td></tr>\n",
       "<tr><td>1.12915</td><td>125.490502246445</td><td>-4.80656683993064</td><td>0.6709509659312606</td><td>0.96</td><td>125.49024</td><td>-4.80674</td><td>GALEX J082157.6-044824</td><td>6378128634446611136</td><td>6378128634443464704</td><td>AIS</td><td>125.556935</td><td>-4.443879</td><td>182.0</td><td>182.0</td><td>228.1045</td><td>17.6408</td><td>50205</td><td>2465</td><td>77</td><td>0.368899</td><td>1</td><td>3</td><td>0.045</td><td>0</td><td>0</td><td>21.4259</td><td>0.3264</td><td>20.8217</td><td>0.2056</td><td>2.6059</td><td>0.3264</td><td>0.7417</td><td>0.2056</td><td>2.5428</td><td>0.3173</td><td>1.0071</td><td>0.1847</td><td>2.7807</td><td>0.5152</td><td>0.7613</td><td>0.2259</td><td>0</td><td>0</td><td>0</td><td>0</td><td>9.7641</td><td>2.93426</td><td>17.0345</td><td>3.22476</td><td>2076.57</td><td>1055.71</td><td>2077.86</td><td>1056.15</td><td>7.63</td><td>10.336</td><td>0.003</td><td>0.004</td><td>0.977</td><td>0.9782</td><td>0.1197</td><td>0.1529</td><td>58.24</td><td>62.25</td><td>51.34</td><td>51.35</td><td>10.3361998</td><td>3.06611991</td><td>4.65118</td><td>0.000766</td><td>0.000675</td><td>3.5</td><td>0.000578</td><td>0.000489</td><td>130.9</td><td>134.3</td><td>0.188</td><td>2.01</td><td>0.76</td><td>1.21</td><td>1.1</td><td>0.32</td><td>0.22</td><td>C</td><td>0</td><td>1</td><td>6378128634446611456</td><td>6378128634446611136</td><td>0</td><td>1</td><td>6378128634446611456</td><td>6378128634446611136</td><td>6378128634446611136</td><td>N</td><td>0.0</td></tr>\n",
       "<tr><td>...</td><td>...</td><td>...</td><td>...</td><td>...</td><td>...</td><td>...</td><td>...</td><td>...</td><td>...</td><td>...</td><td>...</td><td>...</td><td>...</td><td>...</td><td>...</td><td>...</td><td>...</td><td>...</td><td>...</td><td>...</td><td>...</td><td>...</td><td>...</td><td>...</td><td>...</td><td>...</td><td>...</td><td>...</td><td>...</td><td>...</td><td>...</td><td>...</td><td>...</td><td>...</td><td>...</td><td>...</td><td>...</td><td>...</td><td>...</td><td>...</td><td>...</td><td>...</td><td>...</td><td>...</td><td>...</td><td>...</td><td>...</td><td>...</td><td>...</td><td>...</td><td>...</td><td>...</td><td>...</td><td>...</td><td>...</td><td>...</td><td>...</td><td>...</td><td>...</td><td>...</td><td>...</td><td>...</td><td>...</td><td>...</td><td>...</td><td>...</td><td>...</td><td>...</td><td>...</td><td>...</td><td>...</td><td>...</td><td>...</td><td>...</td><td>...</td><td>...</td><td>...</td><td>...</td><td>...</td><td>...</td><td>...</td><td>...</td><td>...</td><td>...</td><td>...</td><td>...</td><td>...</td><td>...</td><td>...</td><td>...</td><td>...</td><td>...</td><td>...</td><td>...</td></tr>\n",
       "<tr><td>0.331344</td><td>129.642028795466</td><td>-0.411143716125881</td><td>0.24253335770774176</td><td>0.99</td><td>129.642009</td><td>-0.411054</td><td>GALEX J083834.0-002439</td><td>6377987831460004323</td><td>6377987831456858112</td><td>AIS</td><td>129.437282</td><td>-0.002806</td><td>96.0</td><td>96.0</td><td>226.282</td><td>23.4378</td><td>50201</td><td>513</td><td>16</td><td>0.456705</td><td>1</td><td>3</td><td>0.0328</td><td>0</td><td>0</td><td>20.3226</td><td>0.2521</td><td>20.2207</td><td>0.173</td><td>1.5026</td><td>0.2521</td><td>0.1407</td><td>0.173</td><td>1.6034</td><td>0.2698</td><td>0.4192</td><td>0.1907</td><td>1.421</td><td>0.265</td><td>0.1531</td><td>0.2086</td><td>0</td><td>0</td><td>0</td><td>0</td><td>26.9759</td><td>6.26162</td><td>29.6284</td><td>4.72068</td><td>1435.2</td><td>953.49</td><td>1435.68</td><td>953.2</td><td>7.74</td><td>5.026</td><td>0.003</td><td>0.002</td><td>0.9833</td><td>0.9833</td><td>0.0792</td><td>0.2068</td><td>-48.08</td><td>-54.51</td><td>34.91</td><td>34.91</td><td>7.40587997</td><td>3.00092006</td><td>3.5</td><td>0.000765</td><td>0.000704</td><td>3.5</td><td>0.000728</td><td>0.000578</td><td>69.8</td><td>73.8</td><td>0.595</td><td>0.91</td><td>0.68</td><td>1.0</td><td>0.9</td><td>0.25</td><td>0.15</td><td>C</td><td>0</td><td>1</td><td>6377987831460003840</td><td>6377987831460004323</td><td>0</td><td>1</td><td>6377987831460003840</td><td>6377987831460004323</td><td>6377987831460004323</td><td>N</td><td>0.0</td></tr>\n",
       "<tr><td>0.472023</td><td>129.742393762041</td><td>-0.382388503722201</td><td>1.8171300768169996</td><td>1.0</td><td>129.742523</td><td>-0.382369</td><td>GALEX J083858.2-002256</td><td>6377987831457907293</td><td>6377987831456858112</td><td>AIS</td><td>129.437282</td><td>-0.002806</td><td>96.0</td><td>96.0</td><td>226.3098</td><td>23.5392</td><td>50201</td><td>513</td><td>16</td><td>0.487072</td><td>1</td><td>1</td><td>0.0314</td><td>0</td><td>0</td><td>--</td><td>--</td><td>20.6217</td><td>0.2271</td><td>--</td><td>--</td><td>0.5417</td><td>0.2271</td><td>--</td><td>--</td><td>0.7243</td><td>0.2214</td><td>--</td><td>--</td><td>0.7965</td><td>0.342</td><td>0</td><td>1</td><td>0</td><td>0</td><td>--</td><td>--</td><td>20.479</td><td>4.28319</td><td>--</td><td>--</td><td>1194.44</td><td>1022.04</td><td>--</td><td>8.84</td><td>--</td><td>0.004</td><td>0.998</td><td>0.0</td><td>0.2915</td><td>--</td><td>-80.93</td><td>-79.48</td><td>--</td><td>--</td><td>10.7142</td><td>18.0953999</td><td>3.5</td><td>0.000885</td><td>0.000627</td><td>--</td><td>--</td><td>--</td><td>70.6</td><td>81.4</td><td>--</td><td>--</td><td>0.88</td><td>--</td><td>--</td><td>0.34</td><td>--</td><td>C</td><td>0</td><td>1</td><td>6377987831457907712</td><td>6377987831457907293</td><td>0</td><td>1</td><td>6377987831457907712</td><td>6377987831457907293</td><td>6377987831457907293</td><td>N</td><td>0.0</td></tr>\n",
       "<tr><td>1.026791</td><td>129.942979562378</td><td>-0.583437798637678</td><td>1.9296051717372162</td><td>1.0</td><td>129.943258</td><td>-0.583377</td><td>GALEX J083946.3-003500</td><td>6377987838974104531</td><td>6377987838973050880</td><td>AIS</td><td>130.024336</td><td>-0.882219</td><td>157.0</td><td>301.0</td><td>226.6093</td><td>23.6122</td><td>50201</td><td>737</td><td>23</td><td>0.309643</td><td>1</td><td>1</td><td>0.0283</td><td>0</td><td>0</td><td>--</td><td>--</td><td>22.4465</td><td>0.347</td><td>--</td><td>--</td><td>2.3665</td><td>0.347</td><td>--</td><td>--</td><td>2.4702</td><td>0.3927</td><td>--</td><td>--</td><td>2.8466</td><td>1.0112</td><td>0</td><td>0</td><td>0</td><td>0</td><td>--</td><td>--</td><td>3.81427</td><td>1.21874</td><td>--</td><td>--</td><td>2117.39</td><td>2639.5</td><td>--</td><td>3.683</td><td>--</td><td>0.002</td><td>0.9697</td><td>0.0</td><td>0.3012</td><td>--</td><td>0.12</td><td>0.0</td><td>--</td><td>--</td><td>0.0</td><td>41.6332016</td><td>3.5</td><td>0.000599</td><td>0.000418</td><td>--</td><td>--</td><td>--</td><td>233.3</td><td>139.8</td><td>--</td><td>--</td><td>1.09</td><td>--</td><td>--</td><td>0.49</td><td>--</td><td>C</td><td>0</td><td>1</td><td>6377987838974104576</td><td>6377987838974104531</td><td>0</td><td>1</td><td>6377987838974104576</td><td>6377987838974104531</td><td>6377987838974104531</td><td>N</td><td>0.0</td></tr>\n",
       "<tr><td>1.749696</td><td>129.941980113476</td><td>-0.567928504199954</td><td>0.931261029359208</td><td>0.96</td><td>129.941675</td><td>-0.568307</td><td>GALEX J083946.0-003405</td><td>6377987838974104591</td><td>6377987838973050880</td><td>AIS</td><td>130.024336</td><td>-0.882219</td><td>157.0</td><td>301.0</td><td>226.5942</td><td>23.6184</td><td>50201</td><td>737</td><td>23</td><td>0.324611</td><td>1</td><td>1</td><td>0.0279</td><td>0</td><td>0</td><td>--</td><td>--</td><td>21.9678</td><td>0.3135</td><td>--</td><td>--</td><td>1.8878</td><td>0.3135</td><td>--</td><td>--</td><td>1.9965</td><td>0.2807</td><td>--</td><td>--</td><td>2.146</td><td>0.5418</td><td>0</td><td>0</td><td>0</td><td>0</td><td>--</td><td>--</td><td>5.92781</td><td>1.711</td><td>--</td><td>--</td><td>2121.19</td><td>2675.67</td><td>--</td><td>8.245</td><td>--</td><td>0.003</td><td>0.9654</td><td>0.0</td><td>0.4901</td><td>--</td><td>-5.03</td><td>-4.06</td><td>--</td><td>--</td><td>10.0247002</td><td>1.63946998</td><td>3.5</td><td>0.000977</td><td>0.000498</td><td>--</td><td>--</td><td>--</td><td>234.0</td><td>141.0</td><td>--</td><td>--</td><td>0.99</td><td>--</td><td>--</td><td>0.46</td><td>--</td><td>C</td><td>0</td><td>1</td><td>6377987838974104576</td><td>6377987838974104591</td><td>0</td><td>1</td><td>6377987838974104576</td><td>6377987838974104591</td><td>6377987838974104591</td><td>N</td><td>0.0</td></tr>\n",
       "<tr><td>1.174513</td><td>129.944894737295</td><td>-0.497608534338707</td><td>2.3179732237405255</td><td>1.0</td><td>129.94457</td><td>-0.497641</td><td>GALEX J083946.6-002951</td><td>6377987838974105505</td><td>6377987838973050880</td><td>AIS</td><td>130.024336</td><td>-0.882219</td><td>157.0</td><td>301.0</td><td>226.5291</td><td>23.6563</td><td>50201</td><td>737</td><td>23</td><td>0.392762</td><td>1</td><td>1</td><td>0.0285</td><td>0</td><td>0</td><td>--</td><td>--</td><td>21.8977</td><td>0.3665</td><td>--</td><td>--</td><td>1.8177</td><td>0.3665</td><td>--</td><td>--</td><td>2.2044</td><td>0.3082</td><td>--</td><td>--</td><td>1.8277</td><td>0.4026</td><td>0</td><td>0</td><td>0</td><td>0</td><td>--</td><td>--</td><td>6.32278</td><td>2.13352</td><td>--</td><td>--</td><td>2114.25</td><td>2845.28</td><td>--</td><td>8.643</td><td>--</td><td>0.004</td><td>0.9811</td><td>0.0</td><td>0.2613</td><td>--</td><td>31.47</td><td>33.02</td><td>--</td><td>--</td><td>8.64297962</td><td>5.38033009</td><td>5.54711</td><td>0.0007</td><td>0.000517</td><td>--</td><td>--</td><td>--</td><td>238.8</td><td>136.7</td><td>--</td><td>--</td><td>1.14</td><td>--</td><td>--</td><td>0.51</td><td>--</td><td>C</td><td>0</td><td>1</td><td>6377987838974105600</td><td>6377987838974105505</td><td>0</td><td>1</td><td>6377987838974105600</td><td>6377987838974105505</td><td>6377987838974105505</td><td>N</td><td>0.0</td></tr>\n",
       "<tr><td>1.061328</td><td>129.762076032914</td><td>-0.268527846950033</td><td>1.7621153646567869</td><td>0.97</td><td>129.762001</td><td>-0.268813</td><td>GALEX J083902.8-001607</td><td>6377987831457907714</td><td>6377987831456858112</td><td>AIS</td><td>129.437282</td><td>-0.002806</td><td>96.0</td><td>96.0</td><td>226.2131</td><td>23.6129</td><td>50201</td><td>513</td><td>16</td><td>0.419764</td><td>1</td><td>1</td><td>0.0312</td><td>0</td><td>0</td><td>--</td><td>--</td><td>21.2974</td><td>0.3557</td><td>--</td><td>--</td><td>1.2174</td><td>0.3557</td><td>--</td><td>--</td><td>1.3408</td><td>0.3279</td><td>--</td><td>--</td><td>1.2729</td><td>0.5137</td><td>0</td><td>0</td><td>0</td><td>0</td><td>--</td><td>--</td><td>10.9914</td><td>3.60046</td><td>--</td><td>--</td><td>1147.69</td><td>1294.58</td><td>--</td><td>9.922</td><td>--</td><td>0.004</td><td>0.9889</td><td>0.0</td><td>0.4197</td><td>--</td><td>-25.63</td><td>-27.87</td><td>--</td><td>--</td><td>9.92245007</td><td>1.12412</td><td>3.5</td><td>0.000906</td><td>0.000526</td><td>--</td><td>--</td><td>--</td><td>70.2</td><td>82.2</td><td>--</td><td>--</td><td>1.41</td><td>--</td><td>--</td><td>0.53</td><td>--</td><td>C</td><td>0</td><td>1</td><td>6377987831457907712</td><td>6377987831457907714</td><td>0</td><td>1</td><td>6377987831457907712</td><td>6377987831457907714</td><td>6377987831457907714</td><td>N</td><td>0.0</td></tr>\n",
       "<tr><td>0.965996</td><td>129.679025369929</td><td>-0.0100538132936479</td><td>1.522173281606597</td><td>1.0</td><td>129.679236</td><td>-0.01022</td><td>GALEX J083843.0-000036</td><td>6377987831457908817</td><td>6377987831456858112</td><td>AIS</td><td>129.437282</td><td>-0.002806</td><td>96.0</td><td>96.0</td><td>225.9234</td><td>23.6701</td><td>50201</td><td>513</td><td>16</td><td>0.242068</td><td>1</td><td>1</td><td>0.0406</td><td>0</td><td>0</td><td>--</td><td>--</td><td>20.7951</td><td>0.2333</td><td>--</td><td>--</td><td>0.7151</td><td>0.2333</td><td>--</td><td>--</td><td>0.8365</td><td>0.2387</td><td>--</td><td>--</td><td>0.9546</td><td>0.3853</td><td>0</td><td>0</td><td>0</td><td>0</td><td>--</td><td>--</td><td>17.4562</td><td>3.75044</td><td>--</td><td>--</td><td>1346.34</td><td>1915.22</td><td>--</td><td>5.973</td><td>--</td><td>0.002</td><td>0.9833</td><td>0.0</td><td>0.0667</td><td>--</td><td>-61.16</td><td>-51.6</td><td>--</td><td>--</td><td>9.01175022</td><td>4.91476011</td><td>3.5</td><td>0.000649</td><td>0.000606</td><td>--</td><td>--</td><td>--</td><td>72.0</td><td>87.7</td><td>--</td><td>--</td><td>0.75</td><td>--</td><td>--</td><td>0.29</td><td>--</td><td>C</td><td>0</td><td>1</td><td>6377987831457908736</td><td>6377987831457908817</td><td>0</td><td>1</td><td>6377987831457908736</td><td>6377987831457908817</td><td>6377987831457908817</td><td>N</td><td>0.0</td></tr>\n",
       "<tr><td>2.460347</td><td>129.985964902677</td><td>-0.241848189361962</td><td>1.6545860134623243</td><td>0.97</td><td>129.985658</td><td>-0.241238</td><td>GALEX J083956.5-001428</td><td>6377987830384167165</td><td>6377987830383116288</td><td>AIS</td><td>130.512421</td><td>-0.105362</td><td>160.0</td><td>304.0</td><td>226.3091</td><td>23.8203</td><td>50201</td><td>481</td><td>15</td><td>0.544002</td><td>1</td><td>1</td><td>0.03</td><td>0</td><td>0</td><td>--</td><td>--</td><td>21.3774</td><td>0.2637</td><td>--</td><td>--</td><td>1.2974</td><td>0.2637</td><td>--</td><td>--</td><td>1.7933</td><td>0.2583</td><td>--</td><td>--</td><td>1.2771</td><td>0.2791</td><td>0</td><td>153</td><td>0</td><td>0</td><td>--</td><td>--</td><td>10.2099</td><td>2.47869</td><td>--</td><td>--</td><td>3160.59</td><td>1602.77</td><td>--</td><td>13.757</td><td>--</td><td>0.006</td><td>0.2776</td><td>0.0</td><td>0.2298</td><td>--</td><td>5.71</td><td>4.55</td><td>--</td><td>--</td><td>13.7573004</td><td>2.24265003</td><td>3.5</td><td>0.001089</td><td>0.000839</td><td>--</td><td>--</td><td>--</td><td>215.9</td><td>166.3</td><td>--</td><td>--</td><td>1.1</td><td>--</td><td>--</td><td>0.5</td><td>--</td><td>C</td><td>0</td><td>1</td><td>6377987830384166912</td><td>6377987830384167165</td><td>0</td><td>1</td><td>6377987830384166912</td><td>6377987830384167165</td><td>6377987830384167165</td><td>N</td><td>0.0</td></tr>\n",
       "<tr><td>0.199487</td><td>129.980191448945</td><td>-0.105963614258311</td><td>1.065901326137354</td><td>1.0</td><td>129.980243</td><td>-0.105983</td><td>GALEX J083955.2-000621</td><td>6377987830386265213</td><td>6377987830383116288</td><td>AIS</td><td>130.512421</td><td>-0.105362</td><td>160.0</td><td>304.0</td><td>226.1781</td><td>23.8833</td><td>50201</td><td>481</td><td>15</td><td>0.532177</td><td>1</td><td>3</td><td>0.0334</td><td>0</td><td>0</td><td>21.0255</td><td>0.2512</td><td>20.0407</td><td>0.0841</td><td>2.2055</td><td>0.2512</td><td>-0.0393</td><td>0.0841</td><td>2.2631</td><td>0.2547</td><td>0.0861</td><td>0.0789</td><td>2.3361</td><td>0.337</td><td>0.0092</td><td>0.0965</td><td>0</td><td>257</td><td>0</td><td>0</td><td>14.1184</td><td>3.2654</td><td>34.9731</td><td>2.70991</td><td>3173.99</td><td>1927.74</td><td>3173.59</td><td>1927.39</td><td>5.129</td><td>4.952</td><td>0.002</td><td>0.002</td><td>0.9787</td><td>0.9829</td><td>0.0689</td><td>0.2838</td><td>-44.51</td><td>-45.24</td><td>-79.78</td><td>-79.78</td><td>7.41394997</td><td>2.12736011</td><td>3.5</td><td>0.00089</td><td>0.000829</td><td>3.5</td><td>0.000678</td><td>0.000485</td><td>258.3</td><td>162.2</td><td>0.349</td><td>1.24</td><td>0.54</td><td>1.02</td><td>0.86</td><td>0.15</td><td>0.16</td><td>C</td><td>0</td><td>1</td><td>6377987830386265088</td><td>6377987830386265213</td><td>0</td><td>1</td><td>6377987830386265088</td><td>6377987830386265213</td><td>6377987830386265213</td><td>N</td><td>0.0</td></tr>\n",
       "<tr><td>2.03522</td><td>129.965590425756</td><td>-0.0814439194641076</td><td>2.29319578970309</td><td>0.97</td><td>129.965912</td><td>-0.080979</td><td>GALEX J083951.8-000451</td><td>6377987830384168230</td><td>6377987830383116288</td><td>AIS</td><td>130.512421</td><td>-0.105362</td><td>160.0</td><td>304.0</td><td>226.1466</td><td>23.8833</td><td>50201</td><td>481</td><td>15</td><td>0.547052</td><td>1</td><td>1</td><td>0.0341</td><td>0</td><td>0</td><td>--</td><td>--</td><td>21.663</td><td>0.3519</td><td>--</td><td>--</td><td>1.583</td><td>0.3519</td><td>--</td><td>--</td><td>1.9954</td><td>0.2652</td><td>--</td><td>--</td><td>1.4437</td><td>0.2881</td><td>0</td><td>1</td><td>0</td><td>0</td><td>--</td><td>--</td><td>7.84866</td><td>2.54352</td><td>--</td><td>--</td><td>3207.99</td><td>1987.41</td><td>--</td><td>16.498</td><td>--</td><td>0.007</td><td>0.2535</td><td>0.0</td><td>0.5226</td><td>--</td><td>-44.3</td><td>-44.65</td><td>--</td><td>--</td><td>13.0710001</td><td>5.47967005</td><td>3.5</td><td>0.001659</td><td>0.000792</td><td>--</td><td>--</td><td>--</td><td>255.7</td><td>162.5</td><td>--</td><td>--</td><td>1.79</td><td>--</td><td>--</td><td>0.75</td><td>--</td><td>C</td><td>0</td><td>1</td><td>6377987830384167936</td><td>6377987830384168230</td><td>0</td><td>1</td><td>6377987830384167936</td><td>6377987830384168230</td><td>6377987830384168230</td><td>N</td><td>0.0</td></tr>\n",
       "</table></div>"
      ],
      "text/plain": [
       "<Table length=578>\n",
       "angDist         ra                dec         ... OName   Size \n",
       "float64      float64            float64       ...  str1 float64\n",
       "-------- ---------------- ------------------- ... ----- -------\n",
       " 0.82569 125.111143024312   -4.66569333137881 ...     N     0.0\n",
       "1.575823 125.077849881746   -4.65655919741207 ...     N     0.0\n",
       " 1.65823 125.299110272183   -4.99188386119016 ...     N     0.0\n",
       " 0.93419 125.326209946487   -4.88417265450998 ...     N     0.0\n",
       "0.479762 125.492989987824    -4.9740470038438 ...     N     0.0\n",
       "0.225943  125.49439230934    -4.9261748054461 ...     N     0.0\n",
       " 0.80192 125.670315314504   -4.95561455987416 ...     N     0.0\n",
       "0.545665 125.696581754425   -4.96072864613063 ...     N     0.0\n",
       "0.963806 125.471820734631    -4.7915259992899 ...     N     0.0\n",
       " 1.12915 125.490502246445   -4.80656683993064 ...     N     0.0\n",
       "     ...              ...                 ... ...   ...     ...\n",
       "0.331344 129.642028795466  -0.411143716125881 ...     N     0.0\n",
       "0.472023 129.742393762041  -0.382388503722201 ...     N     0.0\n",
       "1.026791 129.942979562378  -0.583437798637678 ...     N     0.0\n",
       "1.749696 129.941980113476  -0.567928504199954 ...     N     0.0\n",
       "1.174513 129.944894737295  -0.497608534338707 ...     N     0.0\n",
       "1.061328 129.762076032914  -0.268527846950033 ...     N     0.0\n",
       "0.965996 129.679025369929 -0.0100538132936479 ...     N     0.0\n",
       "2.460347 129.985964902677  -0.241848189361962 ...     N     0.0\n",
       "0.199487 129.980191448945  -0.105963614258311 ...     N     0.0\n",
       " 2.03522 129.965590425756 -0.0814439194641076 ...     N     0.0"
      ]
     },
     "execution_count": 21,
     "metadata": {},
     "output_type": "execute_result"
    }
   ],
   "source": [
    "matched_table"
   ]
  }
 ],
 "metadata": {
  "kernelspec": {
   "display_name": "Python 3.10.6 ('4HIQ')",
   "language": "python",
   "name": "python3"
  },
  "language_info": {
   "codemirror_mode": {
    "name": "ipython",
    "version": 3
   },
   "file_extension": ".py",
   "mimetype": "text/x-python",
   "name": "python",
   "nbconvert_exporter": "python",
   "pygments_lexer": "ipython3",
   "version": "3.10.6"
  },
  "orig_nbformat": 4,
  "vscode": {
   "interpreter": {
    "hash": "5467bde37112203a91ed13ee214a716a4e450c78160f6a2777db205ddeaee664"
   }
  }
 },
 "nbformat": 4,
 "nbformat_minor": 2
}
