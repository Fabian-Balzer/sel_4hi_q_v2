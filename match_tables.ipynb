{
 "cells": [
  {
   "cell_type": "markdown",
   "metadata": {},
   "source": [
    "# Script to match the relevant tables for 4Hi-q\n",
    "\n",
    "## Requirements\n",
    "\n",
    "To be able to run this, the following requirements need to be met:\n",
    "\n",
    "- A `python 3.10` environment, including the `astropy`, `astroquery` and standard modules\n",
    "- The `function package` and the `catalogues` in the same directory.\n",
    "\n",
    "## Structure\n",
    "\n",
    "This script consists of a few separate parts to handle the catalogue data, divided into the following sections:\n",
    "\n",
    "- Querying for the catalogue data and writing backups to disk, requiring the following:\n",
    "  - A `region` specified in the beginning, used for RA and DEC constraints\n",
    "  - An `agn_cat`, providing RA, DEC and probability information on the AGNs\n",
    "  - The `sweep_cat` catalogues for the region in question (TODO: Use the LS DR query interface)\n",
    "  - The `vhs_cat` is obtained by querying the Vista Science Archive\n",
    "- Matching the catalogues, also writing a backup.\n",
    "  - The matching is performed on the respective RA and DEC coordinates (TODO: Use the advanced constraints described in my thesis)\n",
    "  - A match via the `cds` service is performed with the GALEX catalogue\n",
    "- Processing the catalogues (unit conversions and reddening correction), including a split into *pointlike* and *extended*.\n",
    "- Collapsing everything into a `LePhare` input file\n",
    "- Running `LePhare`:\n",
    "  - Collect the filter information\n",
    "  - Collect the template information\n",
    "  - Run the photo-z-routine\n",
    "\n",
    "All of the functions used for these routines can either be found directly in this notebook or in the `function_package` directory."
   ]
  },
  {
   "cell_type": "code",
   "execution_count": 17,
   "metadata": {},
   "outputs": [
    {
     "name": "stderr",
     "output_type": "stream",
     "text": [
      "INFO:root:Modules loaded successfully\n"
     ]
    }
   ],
   "source": [
    "import function_package as fp\n",
    "import logging\n",
    "logging.getLogger().setLevel(\"INFO\")\n",
    "\n",
    "logging.info(\"Modules loaded successfully\")"
   ]
  },
  {
   "cell_type": "code",
   "execution_count": 18,
   "metadata": {},
   "outputs": [
    {
     "name": "stderr",
     "output_type": "stream",
     "text": [
      "INFO:root:Region constrained to 125.0000 <= RA <= 130.0000 and -5.0000 <= DEC <= 0.0000.\n",
      "This corresponds to a linear (!) size of 25 deg^2\n"
     ]
    }
   ],
   "source": [
    "# Define the region to constrain everything to:\n",
    "# The eFEDs field is dec < 6.2 & dec > -3.2 & ra < 146.2 & ra > 126.\n",
    "ra_min, ra_max, dec_min, dec_max = 125, 130, -5, 0\n",
    "REGION = fp.Region(ra_min, ra_max, dec_min, dec_max)\n",
    "logging.info(REGION)"
   ]
  },
  {
   "cell_type": "markdown",
   "metadata": {},
   "source": [
    "## Loading the tables\n",
    "\n",
    "In this section, the tables are loaded.\\\n",
    "TODO: Make use of astroquery if possible"
   ]
  },
  {
   "cell_type": "code",
   "execution_count": 21,
   "metadata": {},
   "outputs": [
    {
     "name": "stderr",
     "output_type": "stream",
     "text": [
      "INFO:root:The reduced shu_agn table provided contains 2437 sources.\n",
      "INFO:root:After the probability cut at p_rf >= 0.940, 1899 sources are left in the shu_agn table\n"
     ]
    }
   ],
   "source": [
    "SHU_TABLE = fp.load_and_clean_opt_agn_shu(REGION)"
   ]
  },
  {
   "cell_type": "code",
   "execution_count": 15,
   "metadata": {},
   "outputs": [
    {
     "name": "stderr",
     "output_type": "stream",
     "text": [
      "INFO:root:The vhs table provided contains 1547498 sources.\n",
      "INFO:root:The reduced vhs table provided contains 291905 sources.\n"
     ]
    }
   ],
   "source": [
    "VHS_TABLE = fp.load_and_clean_vhs(REGION)"
   ]
  },
  {
   "cell_type": "code",
   "execution_count": 16,
   "metadata": {},
   "outputs": [
    {
     "name": "stderr",
     "output_type": "stream",
     "text": [
      "INFO:root:The following bricks are in the requested region for the sweep table:\n",
      "['120m005-130p000']\n",
      "INFO:root:The reduced sweep table provided contains 2421599 sources.\n"
     ]
    }
   ],
   "source": [
    "SWEEP_TABLE = fp.load_and_clean_sweep(REGION)"
   ]
  },
  {
   "cell_type": "markdown",
   "metadata": {},
   "source": [
    "## Matching\n",
    "\n",
    "Now that the tables are properly loaded (except for GALEX, which we'll acquire while matching), we can match them one by one."
   ]
  },
  {
   "cell_type": "code",
   "execution_count": 23,
   "metadata": {},
   "outputs": [
    {
     "ename": "ModuleNotFoundError",
     "evalue": "No module named 'scipy'",
     "output_type": "error",
     "traceback": [
      "\u001b[1;31m---------------------------------------------------------------------------\u001b[0m",
      "\u001b[1;31mModuleNotFoundError\u001b[0m                       Traceback (most recent call last)",
      "Cell \u001b[1;32mIn [23], line 1\u001b[0m\n\u001b[1;32m----> 1\u001b[0m MATCH_TABLE \u001b[39m=\u001b[39m fp\u001b[39m.\u001b[39;49mmatch_with_sweep(SHU_TABLE, SWEEP_TABLE)\n",
      "File \u001b[1;32mc:\\Users\\fabia\\OneDrive\\Dokumente\\Studium\\Master\\Thesis\\LePhare_work\\new_attempt\\function_package\\matching.py:38\u001b[0m, in \u001b[0;36mmatch_with_sweep\u001b[1;34m(table_base, table_sweep, match_radius)\u001b[0m\n\u001b[0;32m     37\u001b[0m \u001b[39mdef\u001b[39;00m \u001b[39mmatch_with_sweep\u001b[39m(table_base: Table, table_sweep: Table, match_radius: \u001b[39mfloat\u001b[39m \u001b[39m=\u001b[39m \u001b[39m1e-5\u001b[39m) \u001b[39m-\u001b[39m\u001b[39m>\u001b[39m Table:\n\u001b[1;32m---> 38\u001b[0m     \u001b[39mreturn\u001b[39;00m crossmatch_tables(table_base, table_sweep, match_radius)\n",
      "File \u001b[1;32mc:\\Users\\fabia\\OneDrive\\Dokumente\\Studium\\Master\\Thesis\\LePhare_work\\new_attempt\\function_package\\matching.py:13\u001b[0m, in \u001b[0;36mcrossmatch_tables\u001b[1;34m(t1, t2, match_radius, join)\u001b[0m\n\u001b[0;32m     11\u001b[0m c2 \u001b[39m=\u001b[39m SkyCoord(ra2, dec2, unit\u001b[39m=\u001b[39m\u001b[39m\"\u001b[39m\u001b[39mdeg\u001b[39m\u001b[39m\"\u001b[39m)\n\u001b[0;32m     12\u001b[0m \u001b[39mif\u001b[39;00m join \u001b[39m==\u001b[39m \u001b[39m\"\u001b[39m\u001b[39mleft\u001b[39m\u001b[39m\"\u001b[39m:\n\u001b[1;32m---> 13\u001b[0m     index, distances, _ \u001b[39m=\u001b[39m c1\u001b[39m.\u001b[39;49mmatch_to_catalog_sky(c2)\n\u001b[0;32m     14\u001b[0m     selection \u001b[39m=\u001b[39m (distances \u001b[39m<\u001b[39m\u001b[39m=\u001b[39m match_radius \u001b[39m*\u001b[39m u\u001b[39m.\u001b[39mdeg)\n\u001b[0;32m     15\u001b[0m     index \u001b[39m=\u001b[39m index[selection]\n",
      "File \u001b[1;32mc:\\Users\\fabia\\anaconda3\\envs\\4HIQ\\lib\\site-packages\\astropy\\coordinates\\sky_coordinate.py:1386\u001b[0m, in \u001b[0;36mSkyCoord.match_to_catalog_sky\u001b[1;34m(self, catalogcoord, nthneighbor)\u001b[0m\n\u001b[0;32m   1381\u001b[0m \u001b[39mif\u001b[39;00m \u001b[39mnot\u001b[39;00m (\u001b[39misinstance\u001b[39m(catalogcoord, (SkyCoord, BaseCoordinateFrame))\n\u001b[0;32m   1382\u001b[0m         \u001b[39mand\u001b[39;00m catalogcoord\u001b[39m.\u001b[39mhas_data):\n\u001b[0;32m   1383\u001b[0m     \u001b[39mraise\u001b[39;00m \u001b[39mTypeError\u001b[39;00m(\u001b[39m'\u001b[39m\u001b[39mCan only get separation to another SkyCoord or a \u001b[39m\u001b[39m'\u001b[39m\n\u001b[0;32m   1384\u001b[0m                     \u001b[39m'\u001b[39m\u001b[39mcoordinate frame with data\u001b[39m\u001b[39m'\u001b[39m)\n\u001b[1;32m-> 1386\u001b[0m res \u001b[39m=\u001b[39m match_coordinates_sky(\u001b[39mself\u001b[39;49m, catalogcoord,\n\u001b[0;32m   1387\u001b[0m                             nthneighbor\u001b[39m=\u001b[39;49mnthneighbor,\n\u001b[0;32m   1388\u001b[0m                             storekdtree\u001b[39m=\u001b[39;49m\u001b[39m'\u001b[39;49m\u001b[39m_kdtree_sky\u001b[39;49m\u001b[39m'\u001b[39;49m)\n\u001b[0;32m   1389\u001b[0m \u001b[39mreturn\u001b[39;00m res\n",
      "File \u001b[1;32mc:\\Users\\fabia\\anaconda3\\envs\\4HIQ\\lib\\site-packages\\astropy\\coordinates\\matching.py:164\u001b[0m, in \u001b[0;36mmatch_coordinates_sky\u001b[1;34m(matchcoord, catalogcoord, nthneighbor, storekdtree)\u001b[0m\n\u001b[0;32m    159\u001b[0m \u001b[39m# Check for a stored KD-tree on the passed-in coordinate. Normally it will\u001b[39;00m\n\u001b[0;32m    160\u001b[0m \u001b[39m# have a distinct name from the \"3D\" one, so it's safe to use even though\u001b[39;00m\n\u001b[0;32m    161\u001b[0m \u001b[39m# it's based on UnitSphericalRepresentation.\u001b[39;00m\n\u001b[0;32m    162\u001b[0m storekdtree \u001b[39m=\u001b[39m catalogcoord\u001b[39m.\u001b[39mcache\u001b[39m.\u001b[39mget(storekdtree, storekdtree)\n\u001b[1;32m--> 164\u001b[0m idx, sep2d, sep3d \u001b[39m=\u001b[39m match_coordinates_3d(newmatch_u, newcat_u, nthneighbor, storekdtree)\n\u001b[0;32m    165\u001b[0m \u001b[39m# sep3d is *wrong* above, because the distance information was removed,\u001b[39;00m\n\u001b[0;32m    166\u001b[0m \u001b[39m# unless one of the catalogs doesn't have a real distance\u001b[39;00m\n\u001b[0;32m    167\u001b[0m \u001b[39mif\u001b[39;00m \u001b[39mnot\u001b[39;00m (\u001b[39misinstance\u001b[39m(catalogcoord\u001b[39m.\u001b[39mdata, UnitSphericalRepresentation) \u001b[39mor\u001b[39;00m\n\u001b[0;32m    168\u001b[0m         \u001b[39misinstance\u001b[39m(newmatch\u001b[39m.\u001b[39mdata, UnitSphericalRepresentation)):\n",
      "File \u001b[1;32mc:\\Users\\fabia\\anaconda3\\envs\\4HIQ\\lib\\site-packages\\astropy\\coordinates\\matching.py:68\u001b[0m, in \u001b[0;36mmatch_coordinates_3d\u001b[1;34m(matchcoord, catalogcoord, nthneighbor, storekdtree)\u001b[0m\n\u001b[0;32m     64\u001b[0m \u001b[39mif\u001b[39;00m catalogcoord\u001b[39m.\u001b[39misscalar \u001b[39mor\u001b[39;00m \u001b[39mlen\u001b[39m(catalogcoord) \u001b[39m<\u001b[39m \u001b[39m1\u001b[39m:\n\u001b[0;32m     65\u001b[0m     \u001b[39mraise\u001b[39;00m \u001b[39mValueError\u001b[39;00m(\u001b[39m'\u001b[39m\u001b[39mThe catalog for coordinate matching cannot be a \u001b[39m\u001b[39m'\u001b[39m\n\u001b[0;32m     66\u001b[0m                      \u001b[39m'\u001b[39m\u001b[39mscalar or length-0.\u001b[39m\u001b[39m'\u001b[39m)\n\u001b[1;32m---> 68\u001b[0m kdt \u001b[39m=\u001b[39m _get_cartesian_kdtree(catalogcoord, storekdtree)\n\u001b[0;32m     70\u001b[0m \u001b[39m# make sure coordinate systems match\u001b[39;00m\n\u001b[0;32m     71\u001b[0m \u001b[39mif\u001b[39;00m \u001b[39misinstance\u001b[39m(matchcoord, SkyCoord):\n",
      "File \u001b[1;32mc:\\Users\\fabia\\anaconda3\\envs\\4HIQ\\lib\\site-packages\\astropy\\coordinates\\matching.py:438\u001b[0m, in \u001b[0;36m_get_cartesian_kdtree\u001b[1;34m(coord, attrname_or_kdt, forceunit)\u001b[0m\n\u001b[0;32m    435\u001b[0m \u001b[39mfrom\u001b[39;00m \u001b[39mwarnings\u001b[39;00m \u001b[39mimport\u001b[39;00m warn\n\u001b[0;32m    437\u001b[0m \u001b[39m# without scipy this will immediately fail\u001b[39;00m\n\u001b[1;32m--> 438\u001b[0m \u001b[39mfrom\u001b[39;00m \u001b[39mscipy\u001b[39;00m \u001b[39mimport\u001b[39;00m spatial\n\u001b[0;32m    439\u001b[0m \u001b[39mtry\u001b[39;00m:\n\u001b[0;32m    440\u001b[0m     KDTree \u001b[39m=\u001b[39m spatial\u001b[39m.\u001b[39mcKDTree\n",
      "\u001b[1;31mModuleNotFoundError\u001b[0m: No module named 'scipy'"
     ]
    }
   ],
   "source": [
    "MATCH_TABLE = fp.match_with_sweep(SHU_TABLE, SWEEP_TABLE)\n",
    "# TODO: Implement matching.\n",
    "MATCH_TABLE = fp.match_with_vhs(MATCH_TABLE, VHS_TABLE)\n",
    "MATCH_TABLE = fp.match_with_galex(MATCH_TABLE)"
   ]
  }
 ],
 "metadata": {
  "kernelspec": {
   "display_name": "Python 3.10.6 ('4HIQ')",
   "language": "python",
   "name": "python3"
  },
  "language_info": {
   "codemirror_mode": {
    "name": "ipython",
    "version": 3
   },
   "file_extension": ".py",
   "mimetype": "text/x-python",
   "name": "python",
   "nbconvert_exporter": "python",
   "pygments_lexer": "ipython3",
   "version": "3.10.6"
  },
  "orig_nbformat": 4,
  "vscode": {
   "interpreter": {
    "hash": "5467bde37112203a91ed13ee214a716a4e450c78160f6a2777db205ddeaee664"
   }
  }
 },
 "nbformat": 4,
 "nbformat_minor": 2
}
