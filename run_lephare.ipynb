{
 "cells": [
  {
   "cell_type": "markdown",
   "metadata": {},
   "source": [
    "# Script to run LePhare on a matched table\n",
    "\n",
    "## Requirements\n",
    "\n",
    "This notebook is supposed to be run on a matched LePhare input file after carrying out the matching using the `match_tables.ipynb` notebook.\n",
    "\n",
    "## Structure\n",
    "\n",
    "- Load the region and the relevant matched and processd files\n",
    "- Running `LePhare`:\n",
    "  1. Collect the filter information\n",
    "  2. Collect the template information\n",
    "     1. For the stellar library\n",
    "     2. For the pointlike library\n",
    "     3. For the extended library\n",
    "  3. Run the photo-z-routine"
   ]
  },
  {
   "cell_type": "code",
   "execution_count": 1,
   "metadata": {},
   "outputs": [
    {
     "name": "stderr",
     "output_type": "stream",
     "text": [
      "INFO:root:Modules loaded successfully\n"
     ]
    },
    {
     "name": "stdout",
     "output_type": "stream",
     "text": [
      "Could not import regions, which is required for some of the functionalities of this module.\n"
     ]
    }
   ],
   "source": [
    "import os\n",
    "import function_package as fp\n",
    "import logging\n",
    "logging.getLogger().setLevel(\"INFO\")\n",
    "\n",
    "logging.info(\"Modules loaded successfully\")\n",
    "# Ignore the 'Could not import regions' line, it is from one of the submodules"
   ]
  },
  {
   "cell_type": "code",
   "execution_count": 2,
   "metadata": {},
   "outputs": [
    {
     "name": "stderr",
     "output_type": "stream",
     "text": [
      "INFO:root:Region constrained to 125.0000 <= RA <= 130.0000 and -5.0000 <= DEC <= 0.0000.\n",
      "This corresponds to a linear (!) size of 25 deg^2\n"
     ]
    }
   ],
   "source": [
    "# Load the region that has been saved before. If this fails, make sure to run `match_tables.ipynb` first!\n",
    "REGION = fp.Region(load_from_disk=True)\n",
    "logging.info(REGION)"
   ]
  },
  {
   "cell_type": "markdown",
   "metadata": {},
   "source": [
    "## Run LePhare\n",
    "\n",
    "Before we run any of the subprograms, let us initialise important stems that we're going to use over and over:"
   ]
  },
  {
   "cell_type": "code",
   "execution_count": 19,
   "metadata": {},
   "outputs": [],
   "source": [
    "LEPHAREDIR = fp.get_lephare_directory(\"dir\")\n",
    "LEPHAREWORK = fp.get_lephare_directory(\"work\")\n",
    "PARAFILE = fp.get_filepath(\"para_in\")\n",
    "PARA_OUT = fp.get_filepath(\"para_out\")\n",
    "\n",
    "FILTER_STEM = \"ls10plus\"\n",
    "\n",
    "STAR_STEM = \"base\"\n",
    "STAR_FILE = fp.get_filepath(\"template\", \"star\", stem=STAR_STEM)\n",
    "STAR_SEDLIB_NAME = f\"{STAR_STEM}_star_sedlib\"\n",
    "STAR_MAGLIB_NAME = f\"{STAR_STEM}_star_maglib\"\n",
    "TEMP_STEM = \"combined\"  # This refers to the templates that seemed to work best in my thesis\n",
    "PLIKE_FILE = fp.get_filepath(\"template\", \"pointlike\", stem=TEMP_STEM)\n",
    "PLIKE_SEDLIB_NAME = f\"{TEMP_STEM}_pointlike_sedlib\"\n",
    "PLIKE_MAGLIB_NAME = f\"{TEMP_STEM}_pointlike_maglib\"\n",
    "EXT_FILE = fp.get_filepath(\"template\", \"extended\", stem=TEMP_STEM)\n",
    "EXT_SEDLIB_NAME = f\"{TEMP_STEM}_extended_sedlib\"\n",
    "EXT_MAGLIB_NAME = f\"{TEMP_STEM}_extended_maglib\"\n",
    "\n",
    "RUN_STEM = \"base\"\n",
    "PLIKE_IN = fp.get_filepath(\"lephare_in\", \"pointlike\", stem=RUN_STEM)\n",
    "PLIKE_OUT = fp.get_filepath(\"lephare_out\", \"pointlike\", stem=RUN_STEM)\n",
    "EXT_IN = fp.get_filepath(\"lephare_in\", \"extended\", stem=RUN_STEM)\n",
    "EXT_OUT = fp.get_filepath(\"lephare_out\", \"extended\", stem=RUN_STEM)"
   ]
  },
  {
   "cell_type": "markdown",
   "metadata": {},
   "source": [
    "\n",
    "### 1) Run the filter file\n",
    "\n",
    "> **Notes**:\\\n",
    "> This step can be skipped if the filterfile has already been set up before.\\\n",
    "> If you wanted to change the bands used, you need to change some parameters in the parameter file as well!\\\n",
    "> Also, make sure to rerun the commands to produce the magnitude libraries in this case!"
   ]
  },
  {
   "cell_type": "code",
   "execution_count": 9,
   "metadata": {},
   "outputs": [],
   "source": [
    "# We use this stem for the Galex, sweep (+WISE) and VHS filters:\n",
    "# FUV, NUV, g, r, i, z, J, H, Y, Ks, W1, W2, W3, W4\n",
    "FILTER_OUT = fp.get_filepath(\"filter\", stem=FILTER_STEM)\n",
    "FILTER_REPO = fp.get_lephare_directory(\"filter_origin\")"
   ]
  },
  {
   "cell_type": "code",
   "execution_count": 10,
   "metadata": {},
   "outputs": [
    {
     "name": "stdout",
     "output_type": "stream",
     "text": [
      "Couldn't find program: 'bash'\n"
     ]
    }
   ],
   "source": [
    "%%bash\n",
    "\n",
    "{$LEPHAREDIR}/source/filter -c $PARAFILE \\\n",
    "    -FILTER_REP {$FILTER_REPO} \\\n",
    "    -FILTER_FILE {$FILTER_STEM} \\\n",
    "    >$FILTER_OUT"
   ]
  },
  {
   "cell_type": "markdown",
   "metadata": {},
   "source": [
    "### 2) Run the template files\n",
    "\n",
    "Here, we create the template files that LePhare uses to fit the SEDs against.\\\n",
    "The creation usually consists of two steps:\n",
    "1. The creation of the SED library:\\\n",
    "   After we've provided a list of the filenames where our template files are located, LePhare unifies them to a single library file.\\\n",
    "   This is done via the `sedtolib` command.\n",
    "2. The creation of the magnitude library:\\\n",
    "   Then, these library SEDs have to be convolved through each of our filters to create physical magnitudes we would observe.\\\n",
    "   These are then propagated in a redshift grid, and, if requested, an EBV-grid to create the magnitude libraries that are later used for the fits.\\\n",
    "   This is done via the `mag_gal` command.\n",
    "\n",
    "> **Notes**:\\\n",
    "> These steps can be skipped if the required template files already exist.\\\n",
    "> Be sure to repeat this step if using a different set of filters!\\\n",
    "> If you're introducing new template lists, make sure they're included in the ``data/lephare/templates`` directory!"
   ]
  },
  {
   "cell_type": "markdown",
   "metadata": {},
   "source": [
    "#### 2a) The stellar template library"
   ]
  },
  {
   "cell_type": "code",
   "execution_count": null,
   "metadata": {},
   "outputs": [],
   "source": [
    "%%bash\n",
    "# This is the sedtolib routine to create the general stellar library.\n",
    "{$LEPHAREDIR}/source/sedtolib -c $PARAFILE \\\n",
    "    -t S \\\n",
    "    -STAR_SED $STAR_FILE \\\n",
    "    -STAR_LIB $STAR_SEDLIB_NAME"
   ]
  },
  {
   "cell_type": "code",
   "execution_count": null,
   "metadata": {},
   "outputs": [],
   "source": [
    "%%bash\n",
    "# This is the mag_gal routine to create the convolved stellar magnitude library\n",
    "\n",
    "{$LEPHAREDIR}/source/mag_gal -c $PARAFILE \\\n",
    "    -t S \\\n",
    "    -STAR_LIB_IN $STAR_SEDLIB_NAME \\\n",
    "    -STAR_LIB_OUT $STAR_MAGLIB_NAME \\\n",
    "    -EM_LINES NO \\\n",
    "    -LIB_ASCII YES \\\n",
    "    -FILTER_FILE $FILTER_STEM"
   ]
  },
  {
   "cell_type": "markdown",
   "metadata": {},
   "source": [
    "#### 2b) The pointlike library"
   ]
  },
  {
   "cell_type": "code",
   "execution_count": null,
   "metadata": {},
   "outputs": [],
   "source": [
    "%%bash\n",
    "# This is the sedtolib routine to create the general pointlike library.\n",
    "{$LEPHAREDIR}/source/sedtolib -c $PARAFILE \\\n",
    "    -t G \\\n",
    "    -GAL_SED $PLIKE_FILE \\\n",
    "    -GAL_LIB $PLIKE_SEDLIB_NAME"
   ]
  },
  {
   "cell_type": "code",
   "execution_count": null,
   "metadata": {},
   "outputs": [],
   "source": [
    "%%bash\n",
    "# This is the mag_gal routine to create the convolved pointlike magnitude library\n",
    "# The last three lines correspond to the prescribed extinction laws, the models they should be applied on\n",
    "# and the EB_Vs to consider for each application.\n",
    "\n",
    "{$LEPHAREDIR}/source/mag_gal -c $PARAFILE \\\n",
    "    -t G \\\n",
    "    -GAL_LIB_IN $PLIKE_SEDLIB_NAME \\\n",
    "    -GAL_LIB_OUT $PLIKE_MAGLIB_NAME \\\n",
    "    -EM_LINES NO \\\n",
    "    -LIB_ASCII YES \\\n",
    "    -FILTER_FILE $FILTER_STEM \\\n",
    "    -EXTINC_LAW SMC_prevot.dat,SB_calzetti.dat \\\n",
    "    -MOD_EXTINC 0,0,0,30 \\\n",
    "    -EB_V 0.,0.05,0.1,0.15,0.2,0.25,0.3,0.35,0.4"
   ]
  },
  {
   "cell_type": "markdown",
   "metadata": {},
   "source": [
    "#### 2c) The extended library"
   ]
  },
  {
   "cell_type": "code",
   "execution_count": null,
   "metadata": {},
   "outputs": [],
   "source": [
    "%%bash\n",
    "# This is the sedtolib routine to create the general extended library.\n",
    "{$LEPHAREDIR}/source/sedtolib -c $PARAFILE \\\n",
    "    -t G \\\n",
    "    -GAL_SED $EXT_FILE \\\n",
    "    -GAL_LIB $EXT_SEDLIB_NAME"
   ]
  },
  {
   "cell_type": "code",
   "execution_count": null,
   "metadata": {},
   "outputs": [],
   "source": [
    "%%bash\n",
    "# This is the mag_gal routine to create the convolved extended magnitude library\n",
    "# We don't use extinction laws here.\n",
    "\n",
    "{$LEPHAREDIR}/source/mag_gal -c $PARAFILE \\\n",
    "    -t G \\\n",
    "    -GAL_LIB_IN $EXT_SEDLIB_NAME \\\n",
    "    -GAL_LIB_OUT $EXT_MAGLIB_NAME \\\n",
    "    -EM_LINES NO \\\n",
    "    -LIB_ASCII YES \\\n",
    "    -FILTER_FILE $FILTER_STEM"
   ]
  },
  {
   "cell_type": "markdown",
   "metadata": {},
   "source": [
    "> **Note**:\\\n",
    "> If you want to analyse the template files, they can be relocated to the 'template' directory as follows:"
   ]
  },
  {
   "cell_type": "code",
   "execution_count": null,
   "metadata": {},
   "outputs": [],
   "source": [
    "for filename in [STAR_MAGLIB_NAME, PLIKE_MAGLIB_NAME, EXT_MAGLIB_NAME]:\n",
    "    lib_prefix = \"star\" if \"star\" in filename else \"mag\"\n",
    "    filepath = fp.get_lephare_directory(\"work\") + \"lib_\" + lib_prefix\n",
    "    sourcepath = f\"{filepath}/{filename}.dat\"\n",
    "    destpath = fp.get_lephare_directory(\"templates\") + filename + \".dat\"\n",
    "    # Simply use the Linux routine to copy the files:\n",
    "    if fp.ask_file_overwrite(destpath):\n",
    "        os.system(f\"cp {sourcepath} {destpath}\")\n",
    "logging.info(\"All files copied successfully.\")"
   ]
  },
  {
   "cell_type": "markdown",
   "metadata": {},
   "source": [
    "### 3) Run the photo-z routine\n",
    "\n",
    "This is the core functionality of LePhare.\\\n",
    "Be sure you know what you're doing when modifying the parameters."
   ]
  },
  {
   "cell_type": "markdown",
   "metadata": {},
   "source": [
    "#### 3a) Run the photo-zs for the pointlike sources"
   ]
  },
  {
   "cell_type": "code",
   "execution_count": null,
   "metadata": {},
   "outputs": [],
   "source": [
    "%%bash\n",
    "# Perform the zphota routine:\n",
    "{$LEPHAREDIR}/source/zphota -c $PARAFILE \\\n",
    "    -ZPHOTLIB $PLIKE_MAGLIB_NAME,$STAR_MAGLIB_NAME \\\n",
    "    -CAT_IN $PLIKE_IN \\\n",
    "    -CAT_OUT $PLIKE_OUT \\\n",
    "    -PARA_OUT $PARA_OUT \\\n",
    "    -LIB_ASCII YES \\\n",
    "    -MAG_REF 7 \\\n",
    "    -MAG_ABS -30,-20\n",
    "# Additional sometimes useful parameters:\n",
    "# -PDZ_OUT YES  -> Generate .spec files for each source\n",
    "# -SPEC_OUT YES  -> Generate .spec files for each source\n",
    "# -CAT_LINES 10, 10  -> Only consider the first 10 rows (highly recommended with .spec files)\n",
    "# -GLB_CONTEXT context  -> Limit the SED-Fitting to a subset of the bands described via 'context'"
   ]
  },
  {
   "cell_type": "markdown",
   "metadata": {},
   "source": [
    "#### 3b) Run the photo-zs for the extended sources"
   ]
  },
  {
   "cell_type": "code",
   "execution_count": null,
   "metadata": {},
   "outputs": [],
   "source": [
    "%%bash\n",
    "# Perform the zphota routine:\n",
    "{$LEPHAREDIR}/source/zphota -c $PARAFILE \\\n",
    "    -ZPHOTLIB $EXT_MAGLIB_NAME,$STAR_MAGLIB_NAME \\\n",
    "    -CAT_IN $EXT_IN \\\n",
    "    -CAT_OUT $EXT_OUT \\\n",
    "    -PARA_OUT $PARA_OUT \\\n",
    "    -GLB_CONTEXT -1 \\\n",
    "    -LIB_ASCII YES \\\n",
    "    -MAG_REF 7 \\\n",
    "    -MAG_ABS -24,-8\n",
    "# Additional sometimes useful parameters:\n",
    "# -PDZ_OUT YES  -> Generate .spec files for each source\n",
    "# -SPEC_OUT YES  -> Generate .spec files for each source\n",
    "# -CAT_LINES 10, 10  -> Only consider the first 10 rows (highly recommended with .spec files)\n",
    "# -GLB_CONTEXT context  -> Limit the SED-Fitting to a subset of the bands described via 'context'"
   ]
  }
 ],
 "metadata": {
  "kernelspec": {
   "display_name": "Python 3.10.6 ('4HIQ')",
   "language": "python",
   "name": "python3"
  },
  "language_info": {
   "codemirror_mode": {
    "name": "ipython",
    "version": 3
   },
   "file_extension": ".py",
   "mimetype": "text/x-python",
   "name": "python",
   "nbconvert_exporter": "python",
   "pygments_lexer": "ipython3",
   "version": "3.10.6"
  },
  "orig_nbformat": 4,
  "vscode": {
   "interpreter": {
    "hash": "5467bde37112203a91ed13ee214a716a4e450c78160f6a2777db205ddeaee664"
   }
  }
 },
 "nbformat": 4,
 "nbformat_minor": 2
}
