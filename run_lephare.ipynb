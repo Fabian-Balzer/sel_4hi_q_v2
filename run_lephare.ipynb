{
 "cells": [
  {
   "cell_type": "markdown",
   "metadata": {},
   "source": [
    "# Script to run LePhare on a matched table\n",
    "\n",
    "## Requirements\n",
    "\n",
    "This notebook is supposed to be run on a matched LePhare input file after carrying out the matching using the `match_tables.ipynb` notebook.\n",
    "\n",
    "## Structure\n",
    "\n",
    "- Load the region and the relevant matched and processd files\n",
    "- Running `LePhare`:\n",
    "  - Collect the filter information\n",
    "  - Collect the template information\n",
    "  - Run the photo-z-routine"
   ]
  },
  {
   "cell_type": "code",
   "execution_count": 2,
   "metadata": {},
   "outputs": [
    {
     "name": "stderr",
     "output_type": "stream",
     "text": [
      "INFO:root:Modules loaded successfully\n"
     ]
    }
   ],
   "source": [
    "import os\n",
    "import function_package as fp\n",
    "import logging\n",
    "logging.getLogger().setLevel(\"INFO\")\n",
    "\n",
    "logging.info(\"Modules loaded successfully\")"
   ]
  },
  {
   "cell_type": "code",
   "execution_count": 7,
   "metadata": {},
   "outputs": [
    {
     "name": "stderr",
     "output_type": "stream",
     "text": [
      "INFO:root:Region constrained to 125.0000 <= RA <= 130.0000 and -5.0000 <= DEC <= 0.0000.\n",
      "This corresponds to a linear (!) size of 25 deg^2\n"
     ]
    }
   ],
   "source": [
    "\n",
    "REGION = fp.Region(load_from_disk=True)\n",
    "logging.info(REGION)"
   ]
  }
 ],
 "metadata": {
  "kernelspec": {
   "display_name": "Python 3.10.6 ('4HIQ')",
   "language": "python",
   "name": "python3"
  },
  "language_info": {
   "codemirror_mode": {
    "name": "ipython",
    "version": 3
   },
   "file_extension": ".py",
   "mimetype": "text/x-python",
   "name": "python",
   "nbconvert_exporter": "python",
   "pygments_lexer": "ipython3",
   "version": "3.10.6"
  },
  "orig_nbformat": 4,
  "vscode": {
   "interpreter": {
    "hash": "5467bde37112203a91ed13ee214a716a4e450c78160f6a2777db205ddeaee664"
   }
  }
 },
 "nbformat": 4,
 "nbformat_minor": 2
}
