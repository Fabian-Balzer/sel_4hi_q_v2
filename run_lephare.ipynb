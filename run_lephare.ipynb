{
 "cells": [
  {
   "cell_type": "markdown",
   "metadata": {},
   "source": [
    "# Script to run LePhare on a matched table\n",
    "\n",
    "## Requirements\n",
    "\n",
    "This notebook is supposed to be run on a matched LePhare input file after carrying out the matching using the `match_tables.ipynb` notebook.\n",
    "\n",
    "## Structure\n",
    "\n",
    "- Load the region and the relevant matched and processd files\n",
    "- Running `LePhare`:\n",
    "  - Collect the filter information\n",
    "  - Collect the template information\n",
    "  - Run the photo-z-routine"
   ]
  },
  {
   "cell_type": "code",
   "execution_count": 1,
   "metadata": {},
   "outputs": [
    {
     "name": "stderr",
     "output_type": "stream",
     "text": [
      "INFO:root:Modules loaded successfully\n"
     ]
    },
    {
     "name": "stdout",
     "output_type": "stream",
     "text": [
      "Could not import regions, which is required for some of the functionalities of this module.\n"
     ]
    }
   ],
   "source": [
    "import os\n",
    "import function_package as fp\n",
    "import logging\n",
    "logging.getLogger().setLevel(\"INFO\")\n",
    "\n",
    "logging.info(\"Modules loaded successfully\")"
   ]
  },
  {
   "cell_type": "code",
   "execution_count": 2,
   "metadata": {},
   "outputs": [
    {
     "name": "stderr",
     "output_type": "stream",
     "text": [
      "INFO:root:Region constrained to 125.0000 <= RA <= 130.0000 and -5.0000 <= DEC <= 0.0000.\n",
      "This corresponds to a linear (!) size of 25 deg^2\n"
     ]
    }
   ],
   "source": [
    "# Load the region that has been saved before. If this fails, make sure to run `match_tables.ipynb` first!\n",
    "REGION = fp.Region(load_from_disk=True)\n",
    "logging.info(REGION)"
   ]
  },
  {
   "cell_type": "markdown",
   "metadata": {},
   "source": [
    "## Run LePhare\n",
    "\n",
    "Before we run any of the subprograms, let us initialise important stems that we're going to use over and over:"
   ]
  },
  {
   "cell_type": "code",
   "execution_count": 4,
   "metadata": {},
   "outputs": [],
   "source": [
    "LEPHAREDIR = fp.get_filepath(\"lepharedir\")\n",
    "LEPHAREWORK = fp.get_filepath(\"lepharework\")\n",
    "PARAPATH = fp.get_filepath(\"para_in\")"
   ]
  },
  {
   "cell_type": "markdown",
   "metadata": {},
   "source": [
    "\n",
    "### 1) Run the filter file\n",
    "\n",
    "This step can be skipped if the filterfile has already been set up before."
   ]
  },
  {
   "cell_type": "code",
   "execution_count": null,
   "metadata": {},
   "outputs": [],
   "source": [
    "FILTER_STEM = \"ls10plus\"\n",
    "# We use this stem for the Galex, sweep (+WISE) and VHS filters:\n",
    "# FUV, NUV, g, r, i, z, J, H, Y, Ks, W1, W2, W3, W4\n",
    "FILTER_REPO = fp.get_filepath(\"filter_repo\")\n",
    "\n",
    "!{$LEPHAREDIR}/source/filter -c $PARAPATH \\\n",
    "    -FILTER_REP $ \\\n",
    "    -FILTER_FILE $filter_stem \\\n",
    "    >$fpath_filter_file"
   ]
  },
  {
   "cell_type": "markdown",
   "metadata": {},
   "source": [
    "### 2) Run the template files\n",
    "\n",
    "This step can be skipped if the required template files already exist."
   ]
  },
  {
   "cell_type": "code",
   "execution_count": null,
   "metadata": {},
   "outputs": [],
   "source": []
  },
  {
   "cell_type": "markdown",
   "metadata": {},
   "source": [
    "### 3) Run the photo-z routine\n",
    "\n",
    "This is the core functionality of LePhare.\\\n",
    "Be sure you know what you're doing when modifying the parameters."
   ]
  }
 ],
 "metadata": {
  "kernelspec": {
   "display_name": "Python 3.10.6 ('4HIQ')",
   "language": "python",
   "name": "python3"
  },
  "language_info": {
   "codemirror_mode": {
    "name": "ipython",
    "version": 3
   },
   "file_extension": ".py",
   "mimetype": "text/x-python",
   "name": "python",
   "nbconvert_exporter": "python",
   "pygments_lexer": "ipython3",
   "version": "3.10.6"
  },
  "orig_nbformat": 4,
  "vscode": {
   "interpreter": {
    "hash": "5467bde37112203a91ed13ee214a716a4e450c78160f6a2777db205ddeaee664"
   }
  }
 },
 "nbformat": 4,
 "nbformat_minor": 2
}
